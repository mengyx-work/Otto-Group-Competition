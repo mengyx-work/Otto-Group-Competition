{
 "cells": [
  {
   "cell_type": "code",
   "execution_count": 1,
   "metadata": {
    "collapsed": false
   },
   "outputs": [],
   "source": [
    "import numpy as np\n",
    "import pandas as pd\n",
    "import lda\n",
    "import lda.datasets\n",
    "import numpy as np\n",
    "import matplotlib.pyplot as plt\n"
   ]
  },
  {
   "cell_type": "code",
   "execution_count": 3,
   "metadata": {
    "collapsed": false
   },
   "outputs": [],
   "source": [
    "#X = lda.datasets.load_reuters()\n",
    "train = pd.read_csv('train.csv', index_col='id')\n",
    "#test = pd.read_csv('test.csv')\n",
    "#sample = pd.read_csv('sampleSubmission.csv')\n",
    "targets = train['target']\n",
    "train = train.drop('target', axis=1)\n"
   ]
  },
  {
   "cell_type": "code",
   "execution_count": 4,
   "metadata": {
    "collapsed": false
   },
   "outputs": [],
   "source": [
    "#train = train.drop('id', axis=1)\n",
    "#test = test.drop('id', axis=1)\n",
    "\n",
    "LDA_Matrix = np.array(train)"
   ]
  },
  {
   "cell_type": "code",
   "execution_count": 5,
   "metadata": {
    "collapsed": false
   },
   "outputs": [
    {
     "data": {
      "text/plain": [
       "(61878, 93)"
      ]
     },
     "execution_count": 5,
     "metadata": {},
     "output_type": "execute_result"
    }
   ],
   "source": [
    "type(LDA_Matrix)\n",
    "LDA_Matrix.shape"
   ]
  },
  {
   "cell_type": "code",
   "execution_count": 6,
   "metadata": {
    "collapsed": false
   },
   "outputs": [
    {
     "data": {
      "text/plain": [
       "<lda.lda.LDA instance at 0x1018b7d40>"
      ]
     },
     "execution_count": 6,
     "metadata": {},
     "output_type": "execute_result"
    }
   ],
   "source": [
    "model = lda.LDA(n_topics=9, n_iter=500, random_state=1)\n",
    "model.fit(LDA_Matrix)\n",
    "#model.fit(X)"
   ]
  },
  {
   "cell_type": "code",
   "execution_count": 7,
   "metadata": {
    "collapsed": false
   },
   "outputs": [
    {
     "data": {
      "text/plain": [
       "(9, 93)"
      ]
     },
     "execution_count": 7,
     "metadata": {},
     "output_type": "execute_result"
    }
   ],
   "source": [
    "#topic_word is a matrix as #topics x #words (vocabulary)\n",
    "topic_word = model.topic_word_\n",
    "topic_word.shape\n"
   ]
  },
  {
   "cell_type": "code",
   "execution_count": 13,
   "metadata": {
    "collapsed": false
   },
   "outputs": [
    {
     "name": "stdout",
     "output_type": "stream",
     "text": [
      "(61878, 93)\n",
      "(61878, 9)\n",
      "(61878, 102)\n"
     ]
    }
   ],
   "source": [
    "print LDA_Matrix.shape\n",
    "doc_topic = model.doc_topic_\n",
    "print doc_topic.shape \n",
    "new_feature_array = np.concatenate((LDA_Matrix, doc_topic), axis=1)\n",
    "print new_feature_array.shape"
   ]
  },
  {
   "cell_type": "code",
   "execution_count": 9,
   "metadata": {
    "collapsed": false
   },
   "outputs": [
    {
     "name": "stdout",
     "output_type": "stream",
     "text": [
      "(61878, 9)\n",
      "3 0.926782273603\n",
      "1 0.705426356589\n",
      "8 0.543624161074\n",
      "5 0.836485661989\n",
      "3 0.531100478469\n",
      "5 0.452991452991\n",
      "6 0.428571428571\n",
      "3 0.926605504587\n",
      "3 0.748633879781\n",
      "6 0.449814126394\n",
      "3 0.742522756827\n",
      "2 0.424802110818\n",
      "6 0.728880157171\n",
      "3 0.378809869376\n",
      "8 0.976401179941\n",
      "3 0.543810848401\n",
      "0 0.449275362319\n",
      "3 0.656804733728\n",
      "8 0.466905187835\n",
      "5 0.716036772217\n",
      "3 0.842818428184\n",
      "8 0.578947368421\n",
      "8 0.531100478469\n",
      "3 0.784841075795\n",
      "8 0.776061776062\n",
      "8 0.65191740413\n",
      "3 0.391417425228\n",
      "3 0.40562248996\n",
      "5 0.356932153392\n",
      "5 0.655076495132\n",
      "8 0.616161616162\n",
      "8 0.623672230653\n",
      "3 0.74672489083\n",
      "6 0.487889273356\n",
      "5 0.650485436893\n",
      "8 0.833648393195\n",
      "6 0.587301587302\n",
      "3 0.670146137787\n",
      "3 0.441048034934\n",
      "6 0.464354527938\n",
      "5 0.331269349845\n",
      "3 0.534391534392\n",
      "3 0.826280623608\n",
      "5 0.979434447301\n",
      "3 0.621621621622\n",
      "3 0.676891615542\n",
      "5 0.528384279476\n",
      "6 0.862464183381\n",
      "3 0.616161616162\n",
      "5 0.741140215716\n",
      "5 0.581722319859\n",
      "3 0.679197994987\n",
      "8 0.448467966574\n",
      "8 0.683366733467\n",
      "3 0.766109785203\n",
      "8 0.726907630522\n",
      "6 0.772151898734\n",
      "3 0.691474966171\n",
      "8 0.642429426861\n",
      "5 0.407249466951\n",
      "3 0.348747591522\n",
      "3 0.525054466231\n",
      "5 0.67701863354\n",
      "5 0.555929352397\n",
      "6 0.659388646288\n",
      "3 0.833910034602\n",
      "5 0.641202562839\n",
      "8 0.767068273092\n",
      "5 0.493624772313\n",
      "3 0.658291457286\n",
      "5 0.724137931034\n",
      "5 0.581291759465\n",
      "5 0.677852348993\n",
      "3 0.35593220339\n",
      "8 0.610738255034\n",
      "3 0.776061776062\n",
      "5 0.572052401747\n",
      "0 0.40350877193\n",
      "3 0.55672823219\n",
      "5 0.449016100179\n",
      "3 0.492537313433\n",
      "8 0.469534050179\n",
      "3 0.448467966574\n",
      "5 0.435079726651\n",
      "1 0.4859437751\n",
      "3 0.942446043165\n",
      "5 0.527599486521\n",
      "5 0.899441340782\n",
      "8 0.512287334594\n",
      "5 0.437802907916\n",
      "3 0.50234741784\n",
      "3 0.557093425606\n",
      "3 0.80602006689\n",
      "5 0.737943585077\n",
      "1 0.682419659735\n",
      "5 0.501443695861\n",
      "3 0.581291759465\n",
      "3 0.95991091314\n",
      "5 0.428571428571\n",
      "5 0.487889273356\n"
     ]
    }
   ],
   "source": [
    "doc_topic = model.doc_topic_\n",
    "print doc_topic.shape\n",
    "\n",
    "#print targets[:100]\n",
    "\n",
    "#print targets[2]\n",
    "for n in range(100):\n",
    "    LDA_most_pr = doc_topic[n].argmax()\n",
    "    #if(doc_topic[n][LDA_most_pr]>0.5):\n",
    "    print LDA_most_pr, doc_topic[n][LDA_most_pr]\n",
    "    #print n\n",
    "    #Target_Class = targets[n]\n",
    "    #print (\"doc: {}, predicted class: {}; target class: {}\".format(n, LDA_most_pr, Target_Class))\n",
    "#doc_topic[0:20]"
   ]
  },
  {
   "cell_type": "code",
   "execution_count": 19,
   "metadata": {
    "collapsed": false
   },
   "outputs": [
    {
     "name": "stdout",
     "output_type": "stream",
     "text": [
      "0\n",
      "[  3.62505347e-06   3.62505347e-06   3.62505347e-06 ...,   3.62505347e-06\n",
      "   3.62505347e-06   3.62505347e-06]\n",
      "1\n",
      "[  1.87498968e-02   1.17916463e-06   1.17916463e-06 ...,   1.17916463e-06\n",
      "   1.17916463e-06   1.17916463e-06]\n",
      "2\n",
      "[  1.52206232e-03   5.05668544e-06   4.05040504e-03 ...,   5.05668544e-06\n",
      "   5.05668544e-06   5.05668544e-06]\n",
      "3\n",
      "[  2.65775080e-06   2.65775080e-06   2.65775080e-06 ...,   2.65775080e-06\n",
      "   2.65775080e-06   2.65775080e-06]\n",
      "4\n",
      "[  5.28254433e-03   8.81265698e-02   1.65027939e-06 ...,   8.26789976e-04\n",
      "   1.65027939e-06   1.65027939e-06]\n",
      "5\n",
      "[  1.14078337e-02   2.92433574e-06   2.92433574e-06 ...,   2.92433574e-06\n",
      "   2.92433574e-06   2.92433574e-06]\n",
      "6\n",
      "[  9.04515602e-03   2.58359212e-06   1.29205442e-02 ...,   2.58359212e-06\n",
      "   2.58359212e-06   5.19302017e-04]\n",
      "7\n",
      "[  1.81626703e-02   5.18785213e-06   5.18785213e-06 ...,   5.18785213e-06\n",
      "   5.18785213e-06   5.18785213e-06]\n",
      "8\n",
      "[  9.47960062e-03   2.06033485e-06   7.41926578e-03 ...,   2.06033485e-06\n",
      "   2.06033485e-06   2.06033485e-06]\n",
      "9\n",
      "[  3.90384060e-06   3.90384060e-06   3.90384060e-06 ...,   3.90384060e-06\n",
      "   3.90384060e-06   3.90384060e-06]\n",
      "10\n",
      "[  3.34831145e-06   3.34831145e-06   3.34831145e-06 ...,   3.34831145e-06\n",
      "   3.34831145e-06   3.34831145e-06]\n",
      "11\n",
      "[  4.23087012e-06   4.23087012e-06   4.23087012e-06 ...,   4.23087012e-06\n",
      "   4.23087012e-06   4.27317882e-04]\n",
      "12\n",
      "[  2.12333159e-06   2.12333159e-06   2.12333159e-06 ...,   2.12333159e-06\n",
      "   2.12333159e-06   2.12333159e-06]\n",
      "13\n",
      "[  1.00663884e-02   5.75189324e-07   1.37476000e-02 ...,   5.75189324e-07\n",
      "   2.88169851e-04   5.75189324e-07]\n",
      "14\n",
      "[  2.95283147e-06   2.95283147e-06   2.95283147e-06 ...,   2.95283147e-06\n",
      "   2.95283147e-06   2.95283147e-06]\n",
      "15\n",
      "[  4.38292762e-06   4.38292762e-06   4.82560331e-03 ...,   4.38292762e-06\n",
      "   4.38292762e-06   8.80968452e-04]\n",
      "16\n",
      "[  4.09906623e-06   4.09906623e-06   4.09906623e-06 ...,   4.09906623e-06\n",
      "   4.09906623e-06   4.09906623e-06]\n",
      "17\n",
      "[  4.17266923e-02   3.93610908e-06   9.05698699e-03 ...,   3.93610908e-06\n",
      "   3.93610908e-06   3.93610908e-06]\n",
      "18\n",
      "[  2.37609835e-06   2.37609835e-06   2.37609835e-06 ...,   2.37609835e-06\n",
      "   2.37609835e-06   2.37609835e-06]\n",
      "19\n",
      "[  3.46310752e-06   3.46310752e-06   3.46310752e-06 ...,   3.46310752e-06\n",
      "   3.46310752e-06   3.46310752e-06]\n"
     ]
    }
   ],
   "source": [
    "for i, topic_dist in enumerate(topic_word):\n",
    "    print i\n",
    "    print topic_dist"
   ]
  }
 ],
 "metadata": {
  "kernelspec": {
   "display_name": "Python 2",
   "language": "python",
   "name": "python2"
  },
  "language_info": {
   "codemirror_mode": {
    "name": "ipython",
    "version": 2
   },
   "file_extension": ".py",
   "mimetype": "text/x-python",
   "name": "python",
   "nbconvert_exporter": "python",
   "pygments_lexer": "ipython2",
   "version": "2.7.5"
  }
 },
 "nbformat": 4,
 "nbformat_minor": 0
}
