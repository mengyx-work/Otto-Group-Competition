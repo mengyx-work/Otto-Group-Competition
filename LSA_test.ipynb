{
 "cells": [
  {
   "cell_type": "code",
   "execution_count": 19,
   "metadata": {
    "collapsed": false
   },
   "outputs": [],
   "source": [
    "import pandas as pd\n",
    "import numpy as np\n",
    "from sklearn import ensemble, feature_extraction, preprocessing\n",
    "\n",
    "# import data\n",
    "train = pd.read_csv('train.csv')\n",
    "test = pd.read_csv('test.csv')\n",
    "sample = pd.read_csv('sampleSubmission.csv')\n",
    "\n",
    "# alternative label encoding to give a matrix representation\n",
    "#targets = pd.get_dummies(train.target.values)\n",
    "\n",
    "# drop ids and get labels\n",
    "labels = train.target.values\n",
    "train = train.drop('id', axis=1)\n",
    "train = train.drop('target', axis=1)\n",
    "test = test.drop('id', axis=1)\n"
   ]
  },
  {
   "cell_type": "code",
   "execution_count": 20,
   "metadata": {
    "collapsed": true
   },
   "outputs": [],
   "source": [
    "# transform counts to TFIDF features\n",
    "tfidf = feature_extraction.text.TfidfTransformer()\n",
    "tfidf_train = tfidf.fit_transform(train).toarray()\n",
    "tfidf_test = tfidf.transform(test).toarray()"
   ]
  },
  {
   "cell_type": "code",
   "execution_count": 21,
   "metadata": {
    "collapsed": false
   },
   "outputs": [
    {
     "name": "stdout",
     "output_type": "stream",
     "text": [
      "<type 'numpy.ndarray'>\n",
      "<class 'pandas.core.frame.DataFrame'>\n",
      "<type 'numpy.ndarray'>\n"
     ]
    },
    {
     "data": {
      "text/plain": [
       "array([[ 0.08043636,  0.        ,  0.        ,  0.        ,  0.        ,\n",
       "         0.        ,  0.        ,  0.        ,  0.        ,  0.        ,\n",
       "         0.06650619,  0.        ,  0.        ,  0.        ,  0.        ,\n",
       "         0.        ,  0.16236491,  0.        ,  0.        ,  0.        ,\n",
       "         0.        ,  0.06011209,  0.        ,  0.16658047,  0.0457056 ,\n",
       "         0.07465443,  0.        ,  0.        ,  0.18084675,  0.        ,\n",
       "         0.        ,  0.        ,  0.        ,  0.        ,  0.0721913 ,\n",
       "         0.        ,  0.        ,  0.        ,  0.        ,  0.05051028,\n",
       "         0.        ,  0.32651383,  0.        ,  0.        ,  0.        ,\n",
       "         0.        ,  0.        ,  0.09289899,  0.        ,  0.        ,\n",
       "         0.        ,  0.        ,  0.        ,  0.0514917 ,  0.        ,\n",
       "         0.        ,  0.16778508,  0.        ,  0.        ,  0.75947136,\n",
       "         0.        ,  0.05340311,  0.09619382,  0.        ,  0.08405275,\n",
       "         0.        ,  0.30115857,  0.        ,  0.        ,  0.        ,\n",
       "         0.08046417,  0.        ,  0.        ,  0.        ,  0.        ,\n",
       "         0.        ,  0.        ,  0.        ,  0.18224586,  0.07328791,\n",
       "         0.        ,  0.        ,  0.        ,  0.        ,  0.07405544,\n",
       "         0.        ,  0.        ,  0.        ,  0.        ,  0.        ,\n",
       "         0.        ,  0.        ,  0.        ],\n",
       "       [ 0.        ,  0.        ,  0.        ,  0.        ,  0.        ,\n",
       "         0.        ,  0.        ,  0.2272778 ,  0.        ,  0.        ,\n",
       "         0.        ,  0.        ,  0.        ,  0.        ,  0.        ,\n",
       "         0.        ,  0.        ,  0.44001495,  0.        ,  0.        ,\n",
       "         0.        ,  0.        ,  0.        ,  0.        ,  0.        ,\n",
       "         0.        ,  0.        ,  0.        ,  0.        ,  0.        ,\n",
       "         0.        ,  0.        ,  0.        ,  0.        ,  0.        ,\n",
       "         0.        ,  0.27294414,  0.        ,  0.        ,  0.        ,\n",
       "         0.        ,  0.        ,  0.        ,  0.        ,  0.        ,\n",
       "         0.        ,  0.        ,  0.        ,  0.        ,  0.        ,\n",
       "         0.        ,  0.        ,  0.        ,  0.        ,  0.        ,\n",
       "         0.        ,  0.        ,  0.29461577,  0.        ,  0.        ,\n",
       "         0.        ,  0.        ,  0.        ,  0.20035191,  0.        ,\n",
       "         0.        ,  0.1460036 ,  0.        ,  0.        ,  0.        ,\n",
       "         0.        ,  0.        ,  0.54677667,  0.26028492,  0.        ,\n",
       "         0.24814035,  0.        ,  0.32200955,  0.        ,  0.        ,\n",
       "         0.        ,  0.        ,  0.        ,  0.        ,  0.        ,\n",
       "         0.        ,  0.        ,  0.        ,  0.        ,  0.        ,\n",
       "         0.        ,  0.        ,  0.        ],\n",
       "       [ 0.        ,  0.        ,  0.        ,  0.        ,  0.        ,\n",
       "         0.        ,  0.        ,  0.19616915,  0.        ,  0.        ,\n",
       "         0.        ,  0.        ,  0.        ,  0.        ,  0.        ,\n",
       "         0.        ,  0.23779475,  0.        ,  0.        ,  0.        ,\n",
       "         0.        ,  0.        ,  0.        ,  0.        ,  0.        ,\n",
       "         0.        ,  0.        ,  0.        ,  0.        ,  0.        ,\n",
       "         0.        ,  0.        ,  0.17179504,  0.        ,  0.        ,\n",
       "         0.        ,  0.        ,  0.        ,  0.        ,  0.        ,\n",
       "         0.        ,  0.        ,  0.        ,  0.        ,  0.        ,\n",
       "         0.        ,  0.        ,  0.13605706,  0.        ,  0.        ,\n",
       "         0.        ,  0.        ,  0.        ,  0.        ,  0.22802947,\n",
       "         0.        ,  0.        ,  0.        ,  0.        ,  0.        ,\n",
       "         0.        ,  0.        ,  0.        ,  0.        ,  0.        ,\n",
       "         0.        ,  0.75611614,  0.        ,  0.        ,  0.34713562,\n",
       "         0.        ,  0.        ,  0.        ,  0.        ,  0.        ,\n",
       "         0.        ,  0.        ,  0.        ,  0.        ,  0.        ,\n",
       "         0.33575895,  0.        ,  0.        ,  0.        ,  0.        ,\n",
       "         0.        ,  0.        ,  0.        ,  0.        ,  0.        ,\n",
       "         0.        ,  0.        ,  0.        ],\n",
       "       [ 0.01184574,  0.        ,  0.        ,  0.01075577,  0.10304501,\n",
       "         0.02114473,  0.07302391,  0.        ,  0.        ,  0.01313204,\n",
       "         0.00979426,  0.        ,  0.01143518,  0.        ,  0.        ,\n",
       "         0.00730357,  0.01195562,  0.        ,  0.        ,  0.        ,\n",
       "         0.        ,  0.        ,  0.        ,  0.04293109,  0.01346199,\n",
       "         0.02198849,  0.        ,  0.        ,  0.        ,  0.87129169,\n",
       "         0.        ,  0.09079143,  0.        ,  0.        ,  0.        ,\n",
       "         0.        ,  0.        ,  0.0299566 ,  0.        ,  0.        ,\n",
       "         0.        ,  0.        ,  0.        ,  0.01960827,  0.        ,\n",
       "         0.02405782,  0.        ,  0.00684055,  0.02376382,  0.01275951,\n",
       "         0.05850432,  0.        ,  0.        ,  0.02274931,  0.01146465,\n",
       "         0.        ,  0.        ,  0.        ,  0.        ,  0.        ,\n",
       "         0.        ,  0.        ,  0.        ,  0.        ,  0.02475664,\n",
       "         0.0096231 ,  0.0316794 ,  0.        ,  0.        ,  0.0349059 ,\n",
       "         0.        ,  0.        ,  0.02372757,  0.01129516,  0.        ,\n",
       "         0.01076814,  0.        ,  0.        ,  0.01341953,  0.010793  ,\n",
       "         0.03376193,  0.029208  ,  0.        ,  0.44671159,  0.        ,\n",
       "         0.00805056,  0.02245616,  0.        ,  0.        ,  0.        ,\n",
       "         0.        ,  0.        ,  0.        ],\n",
       "       [ 0.        ,  0.        ,  0.        ,  0.        ,  0.        ,\n",
       "         0.        ,  0.        ,  0.        ,  0.        ,  0.        ,\n",
       "         0.        ,  0.        ,  0.        ,  0.        ,  0.        ,\n",
       "         0.        ,  0.53328072,  0.        ,  0.        ,  0.        ,\n",
       "         0.        ,  0.        ,  0.        ,  0.06839082,  0.        ,\n",
       "         0.        ,  0.        ,  0.        ,  0.        ,  0.        ,\n",
       "         0.        ,  0.        ,  0.        ,  0.        ,  0.        ,\n",
       "         0.        ,  0.        ,  0.        ,  0.        ,  0.        ,\n",
       "         0.12870436,  0.        ,  0.        ,  0.        ,  0.        ,\n",
       "         0.        ,  0.        ,  0.        ,  0.        ,  0.28456935,\n",
       "         0.        ,  0.        ,  0.        ,  0.        ,  0.        ,\n",
       "         0.        ,  0.        ,  0.        ,  0.        ,  0.        ,\n",
       "         0.        ,  0.08770014,  0.        ,  0.        ,  0.        ,\n",
       "         0.        ,  0.        ,  0.14035551,  0.        ,  0.        ,\n",
       "         0.39642175,  0.        ,  0.        ,  0.        ,  0.        ,\n",
       "         0.        ,  0.        ,  0.        ,  0.59857885,  0.        ,\n",
       "         0.18824403,  0.        ,  0.        ,  0.        ,  0.12161599,\n",
       "         0.        ,  0.        ,  0.        ,  0.        ,  0.14256841,\n",
       "         0.        ,  0.        ,  0.        ]])"
      ]
     },
     "execution_count": 21,
     "metadata": {},
     "output_type": "execute_result"
    }
   ],
   "source": [
    "# check the data format\n",
    "print type(tfidf_train)\n",
    "print type(train)\n",
    "train = train.values\n",
    "print type(train)\n",
    "train[0:5]\n",
    "tfidf_train[0:5]"
   ]
  },
  {
   "cell_type": "code",
   "execution_count": 12,
   "metadata": {
    "collapsed": false
   },
   "outputs": [],
   "source": [
    "# train a random forest classifier\n",
    "clf = ensemble.RandomForestClassifier(n_jobs=-1, n_estimators=100)\n",
    "clf.fit(train, labels)\n",
    "\n",
    "# predict on test set\n",
    "preds = clf.predict_proba(test)\n",
    "\n",
    "# create submission file\n",
    "#preds = pd.DataFrame(preds, index=sample.id.values, columns=sample.columns[1:])\n",
    "#preds.to_csv('benchmark.csv', index_label='id')"
   ]
  },
  {
   "cell_type": "code",
   "execution_count": 9,
   "metadata": {
    "collapsed": false
   },
   "outputs": [
    {
     "data": {
      "text/plain": [
       "(61878,)"
      ]
     },
     "execution_count": 9,
     "metadata": {},
     "output_type": "execute_result"
    }
   ],
   "source": []
  }
 ],
 "metadata": {
  "kernelspec": {
   "display_name": "Python 2",
   "language": "python",
   "name": "python2"
  },
  "language_info": {
   "codemirror_mode": {
    "name": "ipython",
    "version": 2
   },
   "file_extension": ".py",
   "mimetype": "text/x-python",
   "name": "python",
   "nbconvert_exporter": "python",
   "pygments_lexer": "ipython2",
   "version": "2.7.5"
  }
 },
 "nbformat": 4,
 "nbformat_minor": 0
}
